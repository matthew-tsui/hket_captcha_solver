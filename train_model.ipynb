{
 "nbformat": 4,
 "nbformat_minor": 2,
 "metadata": {
  "language_info": {
   "name": "python",
   "codemirror_mode": {
    "name": "ipython",
    "version": 3
   },
   "version": "3.7.3-final"
  },
  "orig_nbformat": 2,
  "file_extension": ".py",
  "mimetype": "text/x-python",
  "name": "python",
  "npconvert_exporter": "python",
  "pygments_lexer": "ipython3",
  "version": 3,
  "kernelspec": {
   "name": "python37364bitbaseconda8b6ada71ab3b493e9123f538c4e103e9",
   "display_name": "Python 3.7.3 64-bit ('base': conda)"
  }
 },
 "cells": [
  {
   "cell_type": "code",
   "execution_count": 1,
   "metadata": {},
   "outputs": [
    {
     "output_type": "stream",
     "name": "stderr",
     "text": "Using TensorFlow backend.\n"
    }
   ],
   "source": [
    "import tensorflow as tf\n",
    "import pandas as pd\n",
    "import numpy as np\n",
    "import re\n",
    "import matplotlib.pyplot as plt\n",
    "import datetime\n",
    "#from tensorboard.plugins.hparams import api as hp\n",
    "from sklearn.model_selection import train_test_split\n",
    "import cv2\n",
    "from os import listdir\n",
    "from tensorflow import keras\n",
    "from keras.models import Sequential\n",
    "from keras.layers.convolutional import Conv2D, MaxPooling2D\n",
    "from keras.layers.core import Flatten, Dense\n",
    "from sklearn.preprocessing import LabelBinarizer\n",
    "import random\n",
    "from sklearn.utils import shuffle\n",
    "import cv2\n",
    "import imutils"
   ]
  },
  {
   "cell_type": "code",
   "execution_count": 8,
   "metadata": {},
   "outputs": [],
   "source": [
    "def resize_image(image, width, height):\n",
    "\n",
    "    # grab the dimensions of the image, then initialize\n",
    "    # the padding values\n",
    "    (h, w) = image.shape[:2]\n",
    "\n",
    "    # if the width is greater than the height then resize along\n",
    "    # the width\n",
    "    if w > h:\n",
    "        image = imutils.resize(image, width=width)\n",
    "\n",
    "    # otherwise, the height is greater than the width so resize\n",
    "    # along the height\n",
    "    else:\n",
    "        image = imutils.resize(image, height=height)\n",
    "\n",
    "    # determine the padding values for the width and height to\n",
    "    # obtain the target dimensions\n",
    "    padW = int((width - image.shape[1]) / 2.0)\n",
    "    padH = int((height - image.shape[0]) / 2.0)\n",
    "\n",
    "    # pad the image then apply one more resizing to handle any\n",
    "    # rounding issues\n",
    "    image = cv2.copyMakeBorder(image, padH, padH, padW, padW,\n",
    "        cv2.BORDER_REPLICATE)\n",
    "    image = cv2.resize(image, (width, height))\n",
    "\n",
    "    return image"
   ]
  },
  {
   "cell_type": "code",
   "execution_count": 9,
   "metadata": {},
   "outputs": [
    {
     "output_type": "stream",
     "name": "stdout",
     "text": "807\n"
    }
   ],
   "source": [
    "files = [f for f in listdir('ready')]\n",
    "\n",
    "print(len(files))\n",
    "\n",
    "X_all = []\n",
    "y_all = []\n",
    "\n",
    "for file in shuffle(files):\n",
    "    image = cv2.imread('ready/'+file)\n",
    "\n",
    "    # convert image to only 0 or 255\n",
    "    image = cv2.cvtColor(image, cv2.COLOR_BGR2GRAY)\n",
    "\n",
    "    # resize image\n",
    "    image = resize_image(image, 12, 12)\n",
    "\n",
    "    #first char is the label\n",
    "    y_all.append(file[0])\n",
    "\n",
    "    X_all.append(image)\n",
    "\n",
    "X_all = np.array(X_all)\n",
    "\n",
    "# reshape array\n",
    "X_all = X_all.reshape((X_all.shape[0],12,12,1))\n",
    "\n",
    "# convert it to either 1 or 0\n",
    "X_all = np.array(X_all,dtype='float') /255.0\n",
    "\n",
    "# cast y to array\n",
    "y_all = np.array(y_all)\n",
    "\n",
    "X_train, X_test, y_train, y_test = train_test_split(X_all,y_all, test_size=0.2, random_state = 42)\n",
    "\n",
    "#encode to one hot encoding\n",
    "lb = LabelBinarizer().fit(y_train)\n",
    "y_train = lb.transform(y_train)\n",
    "y_test = lb.transform(y_test)"
   ]
  },
  {
   "cell_type": "code",
   "execution_count": 10,
   "metadata": {},
   "outputs": [
    {
     "output_type": "stream",
     "name": "stdout",
     "text": "Model: \"sequential_3\"\n_________________________________________________________________\nLayer (type)                 Output Shape              Param #   \n=================================================================\nconv2d_3 (Conv2D)            (None, 12, 12, 20)        520       \n_________________________________________________________________\nmax_pooling2d_3 (MaxPooling2 (None, 6, 6, 20)          0         \n_________________________________________________________________\nflatten_3 (Flatten)          (None, 720)               0         \n_________________________________________________________________\ndense_5 (Dense)              (None, 200)               144200    \n_________________________________________________________________\ndense_6 (Dense)              (None, 10)                2010      \n=================================================================\nTotal params: 146,730\nTrainable params: 146,730\nNon-trainable params: 0\n_________________________________________________________________\nNone\nTrain on 645 samples, validate on 162 samples\nEpoch 1/30\n645/645 [==============================] - 1s 976us/step - loss: 1.5940 - accuracy: 0.6744 - val_loss: 0.7654 - val_accuracy: 0.9198\nEpoch 2/30\n645/645 [==============================] - 0s 263us/step - loss: 0.3955 - accuracy: 0.9473 - val_loss: 0.1989 - val_accuracy: 0.9753\nEpoch 3/30\n645/645 [==============================] - 0s 255us/step - loss: 0.1510 - accuracy: 0.9767 - val_loss: 0.1430 - val_accuracy: 0.9691\nEpoch 4/30\n645/645 [==============================] - 0s 244us/step - loss: 0.1140 - accuracy: 0.9705 - val_loss: 0.1758 - val_accuracy: 0.9506\nEpoch 5/30\n645/645 [==============================] - 0s 241us/step - loss: 0.0945 - accuracy: 0.9767 - val_loss: 0.1214 - val_accuracy: 0.9630\nEpoch 6/30\n645/645 [==============================] - 0s 238us/step - loss: 0.0856 - accuracy: 0.9814 - val_loss: 0.1214 - val_accuracy: 0.9630\nEpoch 7/30\n645/645 [==============================] - 0s 252us/step - loss: 0.0712 - accuracy: 0.9829 - val_loss: 0.0932 - val_accuracy: 0.9691\nEpoch 8/30\n645/645 [==============================] - 0s 247us/step - loss: 0.0690 - accuracy: 0.9829 - val_loss: 0.0874 - val_accuracy: 0.9691\nEpoch 9/30\n645/645 [==============================] - 0s 249us/step - loss: 0.0584 - accuracy: 0.9922 - val_loss: 0.1007 - val_accuracy: 0.9568\nEpoch 10/30\n645/645 [==============================] - 0s 250us/step - loss: 0.0537 - accuracy: 0.9891 - val_loss: 0.1039 - val_accuracy: 0.9630\nEpoch 11/30\n645/645 [==============================] - 0s 246us/step - loss: 0.0555 - accuracy: 0.9876 - val_loss: 0.0959 - val_accuracy: 0.9630\nEpoch 12/30\n645/645 [==============================] - 0s 238us/step - loss: 0.0438 - accuracy: 0.9922 - val_loss: 0.0934 - val_accuracy: 0.9630\nEpoch 13/30\n645/645 [==============================] - 0s 260us/step - loss: 0.0377 - accuracy: 0.9953 - val_loss: 0.0697 - val_accuracy: 0.9815\nEpoch 14/30\n645/645 [==============================] - 0s 243us/step - loss: 0.0424 - accuracy: 0.9938 - val_loss: 0.0669 - val_accuracy: 0.9815\nEpoch 15/30\n645/645 [==============================] - 0s 240us/step - loss: 0.0314 - accuracy: 0.9969 - val_loss: 0.0922 - val_accuracy: 0.9691\nEpoch 16/30\n645/645 [==============================] - 0s 246us/step - loss: 0.0300 - accuracy: 0.9969 - val_loss: 0.0830 - val_accuracy: 0.9691\nEpoch 17/30\n645/645 [==============================] - 0s 255us/step - loss: 0.0290 - accuracy: 0.9953 - val_loss: 0.0785 - val_accuracy: 0.9753\nEpoch 18/30\n645/645 [==============================] - 0s 255us/step - loss: 0.0251 - accuracy: 0.9953 - val_loss: 0.0598 - val_accuracy: 0.9753\nEpoch 19/30\n645/645 [==============================] - 0s 247us/step - loss: 0.0274 - accuracy: 0.9953 - val_loss: 0.0918 - val_accuracy: 0.9753\nEpoch 20/30\n645/645 [==============================] - 0s 250us/step - loss: 0.0229 - accuracy: 0.9969 - val_loss: 0.0804 - val_accuracy: 0.9815\nEpoch 21/30\n645/645 [==============================] - 0s 255us/step - loss: 0.0164 - accuracy: 0.9984 - val_loss: 0.0599 - val_accuracy: 0.9877\nEpoch 22/30\n645/645 [==============================] - 0s 249us/step - loss: 0.0208 - accuracy: 0.9984 - val_loss: 0.0726 - val_accuracy: 0.9753\nEpoch 23/30\n645/645 [==============================] - 0s 241us/step - loss: 0.0190 - accuracy: 0.9984 - val_loss: 0.0657 - val_accuracy: 0.9691\nEpoch 24/30\n645/645 [==============================] - 0s 238us/step - loss: 0.0182 - accuracy: 0.9984 - val_loss: 0.0772 - val_accuracy: 0.9753\nEpoch 25/30\n645/645 [==============================] - 0s 249us/step - loss: 0.0185 - accuracy: 0.9984 - val_loss: 0.0768 - val_accuracy: 0.9815\nEpoch 26/30\n645/645 [==============================] - 0s 244us/step - loss: 0.0185 - accuracy: 0.9984 - val_loss: 0.0804 - val_accuracy: 0.9753\nEpoch 27/30\n645/645 [==============================] - 0s 250us/step - loss: 0.0146 - accuracy: 0.9984 - val_loss: 0.0764 - val_accuracy: 0.9815\nEpoch 28/30\n645/645 [==============================] - 0s 260us/step - loss: 0.0176 - accuracy: 0.9984 - val_loss: 0.0729 - val_accuracy: 0.9691\nEpoch 29/30\n645/645 [==============================] - 0s 250us/step - loss: 0.0133 - accuracy: 0.9984 - val_loss: 0.0561 - val_accuracy: 0.9877\nEpoch 30/30\n645/645 [==============================] - 0s 249us/step - loss: 0.0143 - accuracy: 0.9984 - val_loss: 0.0594 - val_accuracy: 0.9815\n"
    },
    {
     "output_type": "execute_result",
     "data": {
      "text/plain": "<keras.callbacks.callbacks.History at 0x1ae2dd9af98>"
     },
     "metadata": {},
     "execution_count": 10
    }
   ],
   "source": [
    "# Build the neural network!\n",
    "model = Sequential()\n",
    "\n",
    "# First convolutional layer with max pooling\n",
    "model.add(Conv2D(20, (5, 5), padding=\"same\", input_shape=(X_all.shape[1], X_all.shape[2],1), activation=\"relu\"))\n",
    "model.add(MaxPooling2D(pool_size=(2, 2), strides=(2, 2)))\n",
    "\n",
    "# Hidden layer with 500 nodes\n",
    "model.add(Flatten())\n",
    "model.add(Dense(200, activation=\"relu\"))\n",
    "\n",
    "# Output layer with 32 nodes (one for each possible letter/number we predict)\n",
    "model.add(Dense(10, activation=\"softmax\"))\n",
    "\n",
    "# Ask Keras to build the TensorFlow model behind the scenes\n",
    "model.compile(loss=\"categorical_crossentropy\", optimizer=\"adam\", metrics=[\"accuracy\"])\n",
    "\n",
    "print(model.summary())\n",
    "\n",
    "model.fit(X_train, y_train, batch_size=24, validation_data=(X_test, y_test), epochs=30, verbose=1)"
   ]
  },
  {
   "cell_type": "code",
   "execution_count": 11,
   "metadata": {},
   "outputs": [],
   "source": [
    "model.save('model.hdf5')"
   ]
  }
 ]
}